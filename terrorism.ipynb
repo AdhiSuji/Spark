{
 "cells": [
  {
   "cell_type": "markdown",
   "id": "6d4eae9a",
   "metadata": {},
   "source": [
    "### EXPLORATORY DATA ANALYSIS"
   ]
  },
  {
   "cell_type": "markdown",
   "id": "81b0ef39",
   "metadata": {},
   "source": [
    "         Exploratory Data Analysis(EDA)  is the process of visually and statistically examining a dataset to understand its main charecteristics ,uncover patterns ,and identify potential insights.\n",
    "         EDA on Terrorism dataset is performed to determine the hotzone of terrorism and the relationship between different features is displayed."
   ]
  },
  {
   "cell_type": "markdown",
   "id": "1275dce6",
   "metadata": {},
   "source": [
    "###### IMPORTING LIBRARIES"
   ]
  },
  {
   "cell_type": "code",
   "execution_count": 4,
   "id": "42f7603b",
   "metadata": {},
   "outputs": [],
   "source": [
    "import pandas as pd\n",
    "import numpy as np\n",
    "import matplotlib.pyplot as plt\n",
    "import seaborn as sns"
   ]
  },
  {
   "cell_type": "code",
   "execution_count": 5,
   "id": "dca5f936",
   "metadata": {},
   "outputs": [],
   "source": [
    "import warnings\n",
    "warnings.filterwarnings('ignore')"
   ]
  },
  {
   "cell_type": "markdown",
   "id": "5ba76581",
   "metadata": {},
   "source": [
    "###### LOAD THE DATASET"
   ]
  },
  {
   "cell_type": "code",
   "execution_count": 6,
   "id": "f3db7d79",
   "metadata": {},
   "outputs": [],
   "source": [
    "data=pd.read_csv('globalterrorismdb_0718dist.csv',encoding='latin-1')"
   ]
  },
  {
   "cell_type": "markdown",
   "id": "154975df",
   "metadata": {},
   "source": [
    "###### DISPLAY THE FIRST FEW ROWS OF THE DATASET"
   ]
  },
  {
   "cell_type": "code",
   "execution_count": 7,
   "id": "614e7e27",
   "metadata": {},
   "outputs": [
    {
     "data": {
      "text/html": [
       "<div>\n",
       "<style scoped>\n",
       "    .dataframe tbody tr th:only-of-type {\n",
       "        vertical-align: middle;\n",
       "    }\n",
       "\n",
       "    .dataframe tbody tr th {\n",
       "        vertical-align: top;\n",
       "    }\n",
       "\n",
       "    .dataframe thead th {\n",
       "        text-align: right;\n",
       "    }\n",
       "</style>\n",
       "<table border=\"1\" class=\"dataframe\">\n",
       "  <thead>\n",
       "    <tr style=\"text-align: right;\">\n",
       "      <th></th>\n",
       "      <th>eventid</th>\n",
       "      <th>iyear</th>\n",
       "      <th>imonth</th>\n",
       "      <th>iday</th>\n",
       "      <th>approxdate</th>\n",
       "      <th>extended</th>\n",
       "      <th>resolution</th>\n",
       "      <th>country</th>\n",
       "      <th>country_txt</th>\n",
       "      <th>region</th>\n",
       "      <th>...</th>\n",
       "      <th>addnotes</th>\n",
       "      <th>scite1</th>\n",
       "      <th>scite2</th>\n",
       "      <th>scite3</th>\n",
       "      <th>dbsource</th>\n",
       "      <th>INT_LOG</th>\n",
       "      <th>INT_IDEO</th>\n",
       "      <th>INT_MISC</th>\n",
       "      <th>INT_ANY</th>\n",
       "      <th>related</th>\n",
       "    </tr>\n",
       "  </thead>\n",
       "  <tbody>\n",
       "    <tr>\n",
       "      <th>0</th>\n",
       "      <td>1.970000e+11</td>\n",
       "      <td>1970</td>\n",
       "      <td>7</td>\n",
       "      <td>2</td>\n",
       "      <td>NaN</td>\n",
       "      <td>0</td>\n",
       "      <td>NaN</td>\n",
       "      <td>58</td>\n",
       "      <td>Dominican Republic</td>\n",
       "      <td>2</td>\n",
       "      <td>...</td>\n",
       "      <td>NaN</td>\n",
       "      <td>NaN</td>\n",
       "      <td>NaN</td>\n",
       "      <td>NaN</td>\n",
       "      <td>PGIS</td>\n",
       "      <td>0</td>\n",
       "      <td>0</td>\n",
       "      <td>0</td>\n",
       "      <td>0</td>\n",
       "      <td>NaN</td>\n",
       "    </tr>\n",
       "    <tr>\n",
       "      <th>1</th>\n",
       "      <td>1.970000e+11</td>\n",
       "      <td>1970</td>\n",
       "      <td>0</td>\n",
       "      <td>0</td>\n",
       "      <td>NaN</td>\n",
       "      <td>0</td>\n",
       "      <td>NaN</td>\n",
       "      <td>130</td>\n",
       "      <td>Mexico</td>\n",
       "      <td>1</td>\n",
       "      <td>...</td>\n",
       "      <td>NaN</td>\n",
       "      <td>NaN</td>\n",
       "      <td>NaN</td>\n",
       "      <td>NaN</td>\n",
       "      <td>PGIS</td>\n",
       "      <td>0</td>\n",
       "      <td>1</td>\n",
       "      <td>1</td>\n",
       "      <td>1</td>\n",
       "      <td>NaN</td>\n",
       "    </tr>\n",
       "    <tr>\n",
       "      <th>2</th>\n",
       "      <td>1.970000e+11</td>\n",
       "      <td>1970</td>\n",
       "      <td>1</td>\n",
       "      <td>0</td>\n",
       "      <td>NaN</td>\n",
       "      <td>0</td>\n",
       "      <td>NaN</td>\n",
       "      <td>160</td>\n",
       "      <td>Philippines</td>\n",
       "      <td>5</td>\n",
       "      <td>...</td>\n",
       "      <td>NaN</td>\n",
       "      <td>NaN</td>\n",
       "      <td>NaN</td>\n",
       "      <td>NaN</td>\n",
       "      <td>PGIS</td>\n",
       "      <td>-9</td>\n",
       "      <td>-9</td>\n",
       "      <td>1</td>\n",
       "      <td>1</td>\n",
       "      <td>NaN</td>\n",
       "    </tr>\n",
       "    <tr>\n",
       "      <th>3</th>\n",
       "      <td>1.970000e+11</td>\n",
       "      <td>1970</td>\n",
       "      <td>1</td>\n",
       "      <td>0</td>\n",
       "      <td>NaN</td>\n",
       "      <td>0</td>\n",
       "      <td>NaN</td>\n",
       "      <td>78</td>\n",
       "      <td>Greece</td>\n",
       "      <td>8</td>\n",
       "      <td>...</td>\n",
       "      <td>NaN</td>\n",
       "      <td>NaN</td>\n",
       "      <td>NaN</td>\n",
       "      <td>NaN</td>\n",
       "      <td>PGIS</td>\n",
       "      <td>-9</td>\n",
       "      <td>-9</td>\n",
       "      <td>1</td>\n",
       "      <td>1</td>\n",
       "      <td>NaN</td>\n",
       "    </tr>\n",
       "    <tr>\n",
       "      <th>4</th>\n",
       "      <td>1.970000e+11</td>\n",
       "      <td>1970</td>\n",
       "      <td>1</td>\n",
       "      <td>0</td>\n",
       "      <td>NaN</td>\n",
       "      <td>0</td>\n",
       "      <td>NaN</td>\n",
       "      <td>101</td>\n",
       "      <td>Japan</td>\n",
       "      <td>4</td>\n",
       "      <td>...</td>\n",
       "      <td>NaN</td>\n",
       "      <td>NaN</td>\n",
       "      <td>NaN</td>\n",
       "      <td>NaN</td>\n",
       "      <td>PGIS</td>\n",
       "      <td>-9</td>\n",
       "      <td>-9</td>\n",
       "      <td>1</td>\n",
       "      <td>1</td>\n",
       "      <td>NaN</td>\n",
       "    </tr>\n",
       "  </tbody>\n",
       "</table>\n",
       "<p>5 rows × 135 columns</p>\n",
       "</div>"
      ],
      "text/plain": [
       "        eventid  iyear  imonth  iday approxdate  extended resolution  country  \\\n",
       "0  1.970000e+11   1970       7     2        NaN         0        NaN       58   \n",
       "1  1.970000e+11   1970       0     0        NaN         0        NaN      130   \n",
       "2  1.970000e+11   1970       1     0        NaN         0        NaN      160   \n",
       "3  1.970000e+11   1970       1     0        NaN         0        NaN       78   \n",
       "4  1.970000e+11   1970       1     0        NaN         0        NaN      101   \n",
       "\n",
       "          country_txt  region  ... addnotes scite1 scite2  scite3  dbsource  \\\n",
       "0  Dominican Republic       2  ...      NaN    NaN    NaN     NaN      PGIS   \n",
       "1              Mexico       1  ...      NaN    NaN    NaN     NaN      PGIS   \n",
       "2         Philippines       5  ...      NaN    NaN    NaN     NaN      PGIS   \n",
       "3              Greece       8  ...      NaN    NaN    NaN     NaN      PGIS   \n",
       "4               Japan       4  ...      NaN    NaN    NaN     NaN      PGIS   \n",
       "\n",
       "   INT_LOG  INT_IDEO INT_MISC INT_ANY  related  \n",
       "0        0         0        0       0      NaN  \n",
       "1        0         1        1       1      NaN  \n",
       "2       -9        -9        1       1      NaN  \n",
       "3       -9        -9        1       1      NaN  \n",
       "4       -9        -9        1       1      NaN  \n",
       "\n",
       "[5 rows x 135 columns]"
      ]
     },
     "execution_count": 7,
     "metadata": {},
     "output_type": "execute_result"
    }
   ],
   "source": [
    "data.head()"
   ]
  },
  {
   "cell_type": "markdown",
   "id": "6945d7d7",
   "metadata": {},
   "source": [
    "###### TO VIEW THE SHAPE OF THE DATASET"
   ]
  },
  {
   "cell_type": "code",
   "execution_count": 8,
   "id": "bfcf34c4",
   "metadata": {
    "scrolled": true
   },
   "outputs": [
    {
     "data": {
      "text/plain": [
       "(65535, 135)"
      ]
     },
     "execution_count": 8,
     "metadata": {},
     "output_type": "execute_result"
    }
   ],
   "source": [
    "data.shape"
   ]
  },
  {
   "cell_type": "markdown",
   "id": "3d7420b8",
   "metadata": {},
   "source": [
    "###### TO VIEW THE COULMN NAME OF THE DATASET"
   ]
  },
  {
   "cell_type": "code",
   "execution_count": 9,
   "id": "66608b82",
   "metadata": {},
   "outputs": [
    {
     "data": {
      "text/plain": [
       "Index(['eventid', 'iyear', 'imonth', 'iday', 'approxdate', 'extended',\n",
       "       'resolution', 'country', 'country_txt', 'region',\n",
       "       ...\n",
       "       'addnotes', 'scite1', 'scite2', 'scite3', 'dbsource', 'INT_LOG',\n",
       "       'INT_IDEO', 'INT_MISC', 'INT_ANY', 'related'],\n",
       "      dtype='object', length=135)"
      ]
     },
     "execution_count": 9,
     "metadata": {},
     "output_type": "execute_result"
    }
   ],
   "source": [
    "data.columns"
   ]
  },
  {
   "cell_type": "markdown",
   "id": "e50453fe",
   "metadata": {},
   "source": [
    "###### CHECK BASIC STATISTICS"
   ]
  },
  {
   "cell_type": "code",
   "execution_count": 10,
   "id": "0297ef7b",
   "metadata": {},
   "outputs": [
    {
     "data": {
      "text/html": [
       "<div>\n",
       "<style scoped>\n",
       "    .dataframe tbody tr th:only-of-type {\n",
       "        vertical-align: middle;\n",
       "    }\n",
       "\n",
       "    .dataframe tbody tr th {\n",
       "        vertical-align: top;\n",
       "    }\n",
       "\n",
       "    .dataframe thead th {\n",
       "        text-align: right;\n",
       "    }\n",
       "</style>\n",
       "<table border=\"1\" class=\"dataframe\">\n",
       "  <thead>\n",
       "    <tr style=\"text-align: right;\">\n",
       "      <th></th>\n",
       "      <th>eventid</th>\n",
       "      <th>iyear</th>\n",
       "      <th>imonth</th>\n",
       "      <th>iday</th>\n",
       "      <th>extended</th>\n",
       "      <th>country</th>\n",
       "      <th>region</th>\n",
       "      <th>latitude</th>\n",
       "      <th>longitude</th>\n",
       "      <th>specificity</th>\n",
       "      <th>...</th>\n",
       "      <th>ransomamt</th>\n",
       "      <th>ransomamtus</th>\n",
       "      <th>ransompaid</th>\n",
       "      <th>ransompaidus</th>\n",
       "      <th>hostkidoutcome</th>\n",
       "      <th>nreleased</th>\n",
       "      <th>INT_LOG</th>\n",
       "      <th>INT_IDEO</th>\n",
       "      <th>INT_MISC</th>\n",
       "      <th>INT_ANY</th>\n",
       "    </tr>\n",
       "  </thead>\n",
       "  <tbody>\n",
       "    <tr>\n",
       "      <th>count</th>\n",
       "      <td>6.553500e+04</td>\n",
       "      <td>65535.000000</td>\n",
       "      <td>65535.000000</td>\n",
       "      <td>65535.000000</td>\n",
       "      <td>65535.000000</td>\n",
       "      <td>65535.000000</td>\n",
       "      <td>65535.000000</td>\n",
       "      <td>62059.000000</td>\n",
       "      <td>6.205800e+04</td>\n",
       "      <td>65535.000000</td>\n",
       "      <td>...</td>\n",
       "      <td>6.540000e+02</td>\n",
       "      <td>1.0</td>\n",
       "      <td>1.600000e+02</td>\n",
       "      <td>5.000000</td>\n",
       "      <td>1575.000000</td>\n",
       "      <td>1219.000000</td>\n",
       "      <td>65535.000000</td>\n",
       "      <td>65535.000000</td>\n",
       "      <td>65535.000000</td>\n",
       "      <td>65535.000000</td>\n",
       "    </tr>\n",
       "    <tr>\n",
       "      <th>mean</th>\n",
       "      <td>1.987032e+11</td>\n",
       "      <td>1986.552193</td>\n",
       "      <td>6.392447</td>\n",
       "      <td>15.390402</td>\n",
       "      <td>0.018738</td>\n",
       "      <td>147.549020</td>\n",
       "      <td>5.677379</td>\n",
       "      <td>18.127411</td>\n",
       "      <td>-1.402178e+03</td>\n",
       "      <td>1.431754</td>\n",
       "      <td>...</td>\n",
       "      <td>3.435298e+06</td>\n",
       "      <td>20000.0</td>\n",
       "      <td>1.277140e+06</td>\n",
       "      <td>13395.000000</td>\n",
       "      <td>3.125714</td>\n",
       "      <td>7.306809</td>\n",
       "      <td>-3.628534</td>\n",
       "      <td>-3.589090</td>\n",
       "      <td>0.128771</td>\n",
       "      <td>-2.857221</td>\n",
       "    </tr>\n",
       "    <tr>\n",
       "      <th>std</th>\n",
       "      <td>7.191673e+08</td>\n",
       "      <td>6.337192</td>\n",
       "      <td>3.405159</td>\n",
       "      <td>8.807574</td>\n",
       "      <td>0.135600</td>\n",
       "      <td>133.846628</td>\n",
       "      <td>3.199408</td>\n",
       "      <td>24.486707</td>\n",
       "      <td>3.459691e+05</td>\n",
       "      <td>1.109175</td>\n",
       "      <td>...</td>\n",
       "      <td>3.988998e+07</td>\n",
       "      <td>NaN</td>\n",
       "      <td>4.632614e+06</td>\n",
       "      <td>18683.535533</td>\n",
       "      <td>1.462602</td>\n",
       "      <td>34.817908</td>\n",
       "      <td>4.479267</td>\n",
       "      <td>4.531547</td>\n",
       "      <td>0.794551</td>\n",
       "      <td>4.479471</td>\n",
       "    </tr>\n",
       "    <tr>\n",
       "      <th>min</th>\n",
       "      <td>1.970000e+11</td>\n",
       "      <td>1970.000000</td>\n",
       "      <td>0.000000</td>\n",
       "      <td>0.000000</td>\n",
       "      <td>0.000000</td>\n",
       "      <td>4.000000</td>\n",
       "      <td>1.000000</td>\n",
       "      <td>-53.154613</td>\n",
       "      <td>-8.618590e+07</td>\n",
       "      <td>1.000000</td>\n",
       "      <td>...</td>\n",
       "      <td>0.000000e+00</td>\n",
       "      <td>20000.0</td>\n",
       "      <td>0.000000e+00</td>\n",
       "      <td>0.000000</td>\n",
       "      <td>2.000000</td>\n",
       "      <td>-99.000000</td>\n",
       "      <td>-9.000000</td>\n",
       "      <td>-9.000000</td>\n",
       "      <td>-9.000000</td>\n",
       "      <td>-9.000000</td>\n",
       "    </tr>\n",
       "    <tr>\n",
       "      <th>25%</th>\n",
       "      <td>1.980000e+11</td>\n",
       "      <td>1982.000000</td>\n",
       "      <td>3.000000</td>\n",
       "      <td>8.000000</td>\n",
       "      <td>0.000000</td>\n",
       "      <td>61.000000</td>\n",
       "      <td>3.000000</td>\n",
       "      <td>5.549162</td>\n",
       "      <td>-7.569456e+01</td>\n",
       "      <td>1.000000</td>\n",
       "      <td>...</td>\n",
       "      <td>0.000000e+00</td>\n",
       "      <td>20000.0</td>\n",
       "      <td>0.000000e+00</td>\n",
       "      <td>0.000000</td>\n",
       "      <td>2.000000</td>\n",
       "      <td>1.000000</td>\n",
       "      <td>-9.000000</td>\n",
       "      <td>-9.000000</td>\n",
       "      <td>0.000000</td>\n",
       "      <td>-9.000000</td>\n",
       "    </tr>\n",
       "    <tr>\n",
       "      <th>50%</th>\n",
       "      <td>1.990000e+11</td>\n",
       "      <td>1987.000000</td>\n",
       "      <td>6.000000</td>\n",
       "      <td>15.000000</td>\n",
       "      <td>0.000000</td>\n",
       "      <td>110.000000</td>\n",
       "      <td>6.000000</td>\n",
       "      <td>15.047369</td>\n",
       "      <td>-3.696263e+00</td>\n",
       "      <td>1.000000</td>\n",
       "      <td>...</td>\n",
       "      <td>2.050000e+04</td>\n",
       "      <td>20000.0</td>\n",
       "      <td>3.135000e+04</td>\n",
       "      <td>650.000000</td>\n",
       "      <td>2.000000</td>\n",
       "      <td>1.000000</td>\n",
       "      <td>0.000000</td>\n",
       "      <td>0.000000</td>\n",
       "      <td>0.000000</td>\n",
       "      <td>0.000000</td>\n",
       "    </tr>\n",
       "    <tr>\n",
       "      <th>75%</th>\n",
       "      <td>1.990000e+11</td>\n",
       "      <td>1991.000000</td>\n",
       "      <td>9.000000</td>\n",
       "      <td>23.000000</td>\n",
       "      <td>0.000000</td>\n",
       "      <td>183.000000</td>\n",
       "      <td>8.000000</td>\n",
       "      <td>38.395649</td>\n",
       "      <td>3.481189e+01</td>\n",
       "      <td>1.000000</td>\n",
       "      <td>...</td>\n",
       "      <td>5.737500e+05</td>\n",
       "      <td>20000.0</td>\n",
       "      <td>4.020000e+05</td>\n",
       "      <td>26325.000000</td>\n",
       "      <td>4.000000</td>\n",
       "      <td>3.000000</td>\n",
       "      <td>0.000000</td>\n",
       "      <td>0.000000</td>\n",
       "      <td>0.000000</td>\n",
       "      <td>1.000000</td>\n",
       "    </tr>\n",
       "    <tr>\n",
       "      <th>max</th>\n",
       "      <td>2.000000e+11</td>\n",
       "      <td>1997.000000</td>\n",
       "      <td>12.000000</td>\n",
       "      <td>31.000000</td>\n",
       "      <td>1.000000</td>\n",
       "      <td>605.000000</td>\n",
       "      <td>12.000000</td>\n",
       "      <td>64.837778</td>\n",
       "      <td>1.784419e+02</td>\n",
       "      <td>5.000000</td>\n",
       "      <td>...</td>\n",
       "      <td>1.000000e+09</td>\n",
       "      <td>20000.0</td>\n",
       "      <td>4.100000e+07</td>\n",
       "      <td>40000.000000</td>\n",
       "      <td>7.000000</td>\n",
       "      <td>390.000000</td>\n",
       "      <td>1.000000</td>\n",
       "      <td>1.000000</td>\n",
       "      <td>1.000000</td>\n",
       "      <td>1.000000</td>\n",
       "    </tr>\n",
       "  </tbody>\n",
       "</table>\n",
       "<p>8 rows × 78 columns</p>\n",
       "</div>"
      ],
      "text/plain": [
       "            eventid         iyear        imonth          iday      extended  \\\n",
       "count  6.553500e+04  65535.000000  65535.000000  65535.000000  65535.000000   \n",
       "mean   1.987032e+11   1986.552193      6.392447     15.390402      0.018738   \n",
       "std    7.191673e+08      6.337192      3.405159      8.807574      0.135600   \n",
       "min    1.970000e+11   1970.000000      0.000000      0.000000      0.000000   \n",
       "25%    1.980000e+11   1982.000000      3.000000      8.000000      0.000000   \n",
       "50%    1.990000e+11   1987.000000      6.000000     15.000000      0.000000   \n",
       "75%    1.990000e+11   1991.000000      9.000000     23.000000      0.000000   \n",
       "max    2.000000e+11   1997.000000     12.000000     31.000000      1.000000   \n",
       "\n",
       "            country        region      latitude     longitude   specificity  \\\n",
       "count  65535.000000  65535.000000  62059.000000  6.205800e+04  65535.000000   \n",
       "mean     147.549020      5.677379     18.127411 -1.402178e+03      1.431754   \n",
       "std      133.846628      3.199408     24.486707  3.459691e+05      1.109175   \n",
       "min        4.000000      1.000000    -53.154613 -8.618590e+07      1.000000   \n",
       "25%       61.000000      3.000000      5.549162 -7.569456e+01      1.000000   \n",
       "50%      110.000000      6.000000     15.047369 -3.696263e+00      1.000000   \n",
       "75%      183.000000      8.000000     38.395649  3.481189e+01      1.000000   \n",
       "max      605.000000     12.000000     64.837778  1.784419e+02      5.000000   \n",
       "\n",
       "       ...     ransomamt  ransomamtus    ransompaid  ransompaidus  \\\n",
       "count  ...  6.540000e+02          1.0  1.600000e+02      5.000000   \n",
       "mean   ...  3.435298e+06      20000.0  1.277140e+06  13395.000000   \n",
       "std    ...  3.988998e+07          NaN  4.632614e+06  18683.535533   \n",
       "min    ...  0.000000e+00      20000.0  0.000000e+00      0.000000   \n",
       "25%    ...  0.000000e+00      20000.0  0.000000e+00      0.000000   \n",
       "50%    ...  2.050000e+04      20000.0  3.135000e+04    650.000000   \n",
       "75%    ...  5.737500e+05      20000.0  4.020000e+05  26325.000000   \n",
       "max    ...  1.000000e+09      20000.0  4.100000e+07  40000.000000   \n",
       "\n",
       "       hostkidoutcome    nreleased       INT_LOG      INT_IDEO      INT_MISC  \\\n",
       "count     1575.000000  1219.000000  65535.000000  65535.000000  65535.000000   \n",
       "mean         3.125714     7.306809     -3.628534     -3.589090      0.128771   \n",
       "std          1.462602    34.817908      4.479267      4.531547      0.794551   \n",
       "min          2.000000   -99.000000     -9.000000     -9.000000     -9.000000   \n",
       "25%          2.000000     1.000000     -9.000000     -9.000000      0.000000   \n",
       "50%          2.000000     1.000000      0.000000      0.000000      0.000000   \n",
       "75%          4.000000     3.000000      0.000000      0.000000      0.000000   \n",
       "max          7.000000   390.000000      1.000000      1.000000      1.000000   \n",
       "\n",
       "            INT_ANY  \n",
       "count  65535.000000  \n",
       "mean      -2.857221  \n",
       "std        4.479471  \n",
       "min       -9.000000  \n",
       "25%       -9.000000  \n",
       "50%        0.000000  \n",
       "75%        1.000000  \n",
       "max        1.000000  \n",
       "\n",
       "[8 rows x 78 columns]"
      ]
     },
     "execution_count": 10,
     "metadata": {},
     "output_type": "execute_result"
    }
   ],
   "source": [
    "data.describe()"
   ]
  },
  {
   "cell_type": "code",
   "execution_count": 11,
   "id": "a71ff7a3",
   "metadata": {},
   "outputs": [
    {
     "data": {
      "text/html": [
       "<div>\n",
       "<style scoped>\n",
       "    .dataframe tbody tr th:only-of-type {\n",
       "        vertical-align: middle;\n",
       "    }\n",
       "\n",
       "    .dataframe tbody tr th {\n",
       "        vertical-align: top;\n",
       "    }\n",
       "\n",
       "    .dataframe thead th {\n",
       "        text-align: right;\n",
       "    }\n",
       "</style>\n",
       "<table border=\"1\" class=\"dataframe\">\n",
       "  <thead>\n",
       "    <tr style=\"text-align: right;\">\n",
       "      <th></th>\n",
       "      <th>eventid</th>\n",
       "      <th>iyear</th>\n",
       "      <th>imonth</th>\n",
       "      <th>iday</th>\n",
       "      <th>approxdate</th>\n",
       "      <th>extended</th>\n",
       "      <th>resolution</th>\n",
       "      <th>country</th>\n",
       "      <th>country_txt</th>\n",
       "      <th>region</th>\n",
       "      <th>...</th>\n",
       "      <th>addnotes</th>\n",
       "      <th>scite1</th>\n",
       "      <th>scite2</th>\n",
       "      <th>scite3</th>\n",
       "      <th>dbsource</th>\n",
       "      <th>INT_LOG</th>\n",
       "      <th>INT_IDEO</th>\n",
       "      <th>INT_MISC</th>\n",
       "      <th>INT_ANY</th>\n",
       "      <th>related</th>\n",
       "    </tr>\n",
       "  </thead>\n",
       "  <tbody>\n",
       "    <tr>\n",
       "      <th>count</th>\n",
       "      <td>6.553500e+04</td>\n",
       "      <td>65535.000000</td>\n",
       "      <td>65535.000000</td>\n",
       "      <td>65535.000000</td>\n",
       "      <td>30</td>\n",
       "      <td>65535.000000</td>\n",
       "      <td>1228</td>\n",
       "      <td>65535.000000</td>\n",
       "      <td>65535</td>\n",
       "      <td>65535.000000</td>\n",
       "      <td>...</td>\n",
       "      <td>1053</td>\n",
       "      <td>1368</td>\n",
       "      <td>1228</td>\n",
       "      <td>880</td>\n",
       "      <td>65535</td>\n",
       "      <td>65535.000000</td>\n",
       "      <td>65535.000000</td>\n",
       "      <td>65535.000000</td>\n",
       "      <td>65535.000000</td>\n",
       "      <td>6766</td>\n",
       "    </tr>\n",
       "    <tr>\n",
       "      <th>unique</th>\n",
       "      <td>NaN</td>\n",
       "      <td>NaN</td>\n",
       "      <td>NaN</td>\n",
       "      <td>NaN</td>\n",
       "      <td>26</td>\n",
       "      <td>NaN</td>\n",
       "      <td>1064</td>\n",
       "      <td>NaN</td>\n",
       "      <td>192</td>\n",
       "      <td>NaN</td>\n",
       "      <td>...</td>\n",
       "      <td>1037</td>\n",
       "      <td>687</td>\n",
       "      <td>698</td>\n",
       "      <td>423</td>\n",
       "      <td>18</td>\n",
       "      <td>NaN</td>\n",
       "      <td>NaN</td>\n",
       "      <td>NaN</td>\n",
       "      <td>NaN</td>\n",
       "      <td>5500</td>\n",
       "    </tr>\n",
       "    <tr>\n",
       "      <th>top</th>\n",
       "      <td>NaN</td>\n",
       "      <td>NaN</td>\n",
       "      <td>NaN</td>\n",
       "      <td>NaN</td>\n",
       "      <td>March 16-17, 1974</td>\n",
       "      <td>NaN</td>\n",
       "      <td>2/23/1988</td>\n",
       "      <td>NaN</td>\n",
       "      <td>Peru</td>\n",
       "      <td>NaN</td>\n",
       "      <td>...</td>\n",
       "      <td>This was one of many attacks against military ...</td>\n",
       "      <td>Committee on Government Operations United Stat...</td>\n",
       "      <td>Christopher Hewitt, \"Political Violence and Te...</td>\n",
       "      <td>Christopher Hewitt, \"Political Violence and Te...</td>\n",
       "      <td>PGIS</td>\n",
       "      <td>NaN</td>\n",
       "      <td>NaN</td>\n",
       "      <td>NaN</td>\n",
       "      <td>NaN</td>\n",
       "      <td>197209190001, 197209190002, 197209190003, 1972...</td>\n",
       "    </tr>\n",
       "    <tr>\n",
       "      <th>freq</th>\n",
       "      <td>NaN</td>\n",
       "      <td>NaN</td>\n",
       "      <td>NaN</td>\n",
       "      <td>NaN</td>\n",
       "      <td>2</td>\n",
       "      <td>NaN</td>\n",
       "      <td>11</td>\n",
       "      <td>NaN</td>\n",
       "      <td>5987</td>\n",
       "      <td>NaN</td>\n",
       "      <td>...</td>\n",
       "      <td>6</td>\n",
       "      <td>205</td>\n",
       "      <td>134</td>\n",
       "      <td>138</td>\n",
       "      <td>61785</td>\n",
       "      <td>NaN</td>\n",
       "      <td>NaN</td>\n",
       "      <td>NaN</td>\n",
       "      <td>NaN</td>\n",
       "      <td>74</td>\n",
       "    </tr>\n",
       "    <tr>\n",
       "      <th>mean</th>\n",
       "      <td>1.987032e+11</td>\n",
       "      <td>1986.552193</td>\n",
       "      <td>6.392447</td>\n",
       "      <td>15.390402</td>\n",
       "      <td>NaN</td>\n",
       "      <td>0.018738</td>\n",
       "      <td>NaN</td>\n",
       "      <td>147.549020</td>\n",
       "      <td>NaN</td>\n",
       "      <td>5.677379</td>\n",
       "      <td>...</td>\n",
       "      <td>NaN</td>\n",
       "      <td>NaN</td>\n",
       "      <td>NaN</td>\n",
       "      <td>NaN</td>\n",
       "      <td>NaN</td>\n",
       "      <td>-3.628534</td>\n",
       "      <td>-3.589090</td>\n",
       "      <td>0.128771</td>\n",
       "      <td>-2.857221</td>\n",
       "      <td>NaN</td>\n",
       "    </tr>\n",
       "    <tr>\n",
       "      <th>std</th>\n",
       "      <td>7.191673e+08</td>\n",
       "      <td>6.337192</td>\n",
       "      <td>3.405159</td>\n",
       "      <td>8.807574</td>\n",
       "      <td>NaN</td>\n",
       "      <td>0.135600</td>\n",
       "      <td>NaN</td>\n",
       "      <td>133.846628</td>\n",
       "      <td>NaN</td>\n",
       "      <td>3.199408</td>\n",
       "      <td>...</td>\n",
       "      <td>NaN</td>\n",
       "      <td>NaN</td>\n",
       "      <td>NaN</td>\n",
       "      <td>NaN</td>\n",
       "      <td>NaN</td>\n",
       "      <td>4.479267</td>\n",
       "      <td>4.531547</td>\n",
       "      <td>0.794551</td>\n",
       "      <td>4.479471</td>\n",
       "      <td>NaN</td>\n",
       "    </tr>\n",
       "    <tr>\n",
       "      <th>min</th>\n",
       "      <td>1.970000e+11</td>\n",
       "      <td>1970.000000</td>\n",
       "      <td>0.000000</td>\n",
       "      <td>0.000000</td>\n",
       "      <td>NaN</td>\n",
       "      <td>0.000000</td>\n",
       "      <td>NaN</td>\n",
       "      <td>4.000000</td>\n",
       "      <td>NaN</td>\n",
       "      <td>1.000000</td>\n",
       "      <td>...</td>\n",
       "      <td>NaN</td>\n",
       "      <td>NaN</td>\n",
       "      <td>NaN</td>\n",
       "      <td>NaN</td>\n",
       "      <td>NaN</td>\n",
       "      <td>-9.000000</td>\n",
       "      <td>-9.000000</td>\n",
       "      <td>-9.000000</td>\n",
       "      <td>-9.000000</td>\n",
       "      <td>NaN</td>\n",
       "    </tr>\n",
       "    <tr>\n",
       "      <th>25%</th>\n",
       "      <td>1.980000e+11</td>\n",
       "      <td>1982.000000</td>\n",
       "      <td>3.000000</td>\n",
       "      <td>8.000000</td>\n",
       "      <td>NaN</td>\n",
       "      <td>0.000000</td>\n",
       "      <td>NaN</td>\n",
       "      <td>61.000000</td>\n",
       "      <td>NaN</td>\n",
       "      <td>3.000000</td>\n",
       "      <td>...</td>\n",
       "      <td>NaN</td>\n",
       "      <td>NaN</td>\n",
       "      <td>NaN</td>\n",
       "      <td>NaN</td>\n",
       "      <td>NaN</td>\n",
       "      <td>-9.000000</td>\n",
       "      <td>-9.000000</td>\n",
       "      <td>0.000000</td>\n",
       "      <td>-9.000000</td>\n",
       "      <td>NaN</td>\n",
       "    </tr>\n",
       "    <tr>\n",
       "      <th>50%</th>\n",
       "      <td>1.990000e+11</td>\n",
       "      <td>1987.000000</td>\n",
       "      <td>6.000000</td>\n",
       "      <td>15.000000</td>\n",
       "      <td>NaN</td>\n",
       "      <td>0.000000</td>\n",
       "      <td>NaN</td>\n",
       "      <td>110.000000</td>\n",
       "      <td>NaN</td>\n",
       "      <td>6.000000</td>\n",
       "      <td>...</td>\n",
       "      <td>NaN</td>\n",
       "      <td>NaN</td>\n",
       "      <td>NaN</td>\n",
       "      <td>NaN</td>\n",
       "      <td>NaN</td>\n",
       "      <td>0.000000</td>\n",
       "      <td>0.000000</td>\n",
       "      <td>0.000000</td>\n",
       "      <td>0.000000</td>\n",
       "      <td>NaN</td>\n",
       "    </tr>\n",
       "    <tr>\n",
       "      <th>75%</th>\n",
       "      <td>1.990000e+11</td>\n",
       "      <td>1991.000000</td>\n",
       "      <td>9.000000</td>\n",
       "      <td>23.000000</td>\n",
       "      <td>NaN</td>\n",
       "      <td>0.000000</td>\n",
       "      <td>NaN</td>\n",
       "      <td>183.000000</td>\n",
       "      <td>NaN</td>\n",
       "      <td>8.000000</td>\n",
       "      <td>...</td>\n",
       "      <td>NaN</td>\n",
       "      <td>NaN</td>\n",
       "      <td>NaN</td>\n",
       "      <td>NaN</td>\n",
       "      <td>NaN</td>\n",
       "      <td>0.000000</td>\n",
       "      <td>0.000000</td>\n",
       "      <td>0.000000</td>\n",
       "      <td>1.000000</td>\n",
       "      <td>NaN</td>\n",
       "    </tr>\n",
       "    <tr>\n",
       "      <th>max</th>\n",
       "      <td>2.000000e+11</td>\n",
       "      <td>1997.000000</td>\n",
       "      <td>12.000000</td>\n",
       "      <td>31.000000</td>\n",
       "      <td>NaN</td>\n",
       "      <td>1.000000</td>\n",
       "      <td>NaN</td>\n",
       "      <td>605.000000</td>\n",
       "      <td>NaN</td>\n",
       "      <td>12.000000</td>\n",
       "      <td>...</td>\n",
       "      <td>NaN</td>\n",
       "      <td>NaN</td>\n",
       "      <td>NaN</td>\n",
       "      <td>NaN</td>\n",
       "      <td>NaN</td>\n",
       "      <td>1.000000</td>\n",
       "      <td>1.000000</td>\n",
       "      <td>1.000000</td>\n",
       "      <td>1.000000</td>\n",
       "      <td>NaN</td>\n",
       "    </tr>\n",
       "  </tbody>\n",
       "</table>\n",
       "<p>11 rows × 135 columns</p>\n",
       "</div>"
      ],
      "text/plain": [
       "             eventid         iyear        imonth          iday  \\\n",
       "count   6.553500e+04  65535.000000  65535.000000  65535.000000   \n",
       "unique           NaN           NaN           NaN           NaN   \n",
       "top              NaN           NaN           NaN           NaN   \n",
       "freq             NaN           NaN           NaN           NaN   \n",
       "mean    1.987032e+11   1986.552193      6.392447     15.390402   \n",
       "std     7.191673e+08      6.337192      3.405159      8.807574   \n",
       "min     1.970000e+11   1970.000000      0.000000      0.000000   \n",
       "25%     1.980000e+11   1982.000000      3.000000      8.000000   \n",
       "50%     1.990000e+11   1987.000000      6.000000     15.000000   \n",
       "75%     1.990000e+11   1991.000000      9.000000     23.000000   \n",
       "max     2.000000e+11   1997.000000     12.000000     31.000000   \n",
       "\n",
       "               approxdate      extended resolution       country country_txt  \\\n",
       "count                  30  65535.000000       1228  65535.000000       65535   \n",
       "unique                 26           NaN       1064           NaN         192   \n",
       "top     March 16-17, 1974           NaN  2/23/1988           NaN        Peru   \n",
       "freq                    2           NaN         11           NaN        5987   \n",
       "mean                  NaN      0.018738        NaN    147.549020         NaN   \n",
       "std                   NaN      0.135600        NaN    133.846628         NaN   \n",
       "min                   NaN      0.000000        NaN      4.000000         NaN   \n",
       "25%                   NaN      0.000000        NaN     61.000000         NaN   \n",
       "50%                   NaN      0.000000        NaN    110.000000         NaN   \n",
       "75%                   NaN      0.000000        NaN    183.000000         NaN   \n",
       "max                   NaN      1.000000        NaN    605.000000         NaN   \n",
       "\n",
       "              region  ...                                           addnotes  \\\n",
       "count   65535.000000  ...                                               1053   \n",
       "unique           NaN  ...                                               1037   \n",
       "top              NaN  ...  This was one of many attacks against military ...   \n",
       "freq             NaN  ...                                                  6   \n",
       "mean        5.677379  ...                                                NaN   \n",
       "std         3.199408  ...                                                NaN   \n",
       "min         1.000000  ...                                                NaN   \n",
       "25%         3.000000  ...                                                NaN   \n",
       "50%         6.000000  ...                                                NaN   \n",
       "75%         8.000000  ...                                                NaN   \n",
       "max        12.000000  ...                                                NaN   \n",
       "\n",
       "                                                   scite1  \\\n",
       "count                                                1368   \n",
       "unique                                                687   \n",
       "top     Committee on Government Operations United Stat...   \n",
       "freq                                                  205   \n",
       "mean                                                  NaN   \n",
       "std                                                   NaN   \n",
       "min                                                   NaN   \n",
       "25%                                                   NaN   \n",
       "50%                                                   NaN   \n",
       "75%                                                   NaN   \n",
       "max                                                   NaN   \n",
       "\n",
       "                                                   scite2  \\\n",
       "count                                                1228   \n",
       "unique                                                698   \n",
       "top     Christopher Hewitt, \"Political Violence and Te...   \n",
       "freq                                                  134   \n",
       "mean                                                  NaN   \n",
       "std                                                   NaN   \n",
       "min                                                   NaN   \n",
       "25%                                                   NaN   \n",
       "50%                                                   NaN   \n",
       "75%                                                   NaN   \n",
       "max                                                   NaN   \n",
       "\n",
       "                                                   scite3  dbsource  \\\n",
       "count                                                 880     65535   \n",
       "unique                                                423        18   \n",
       "top     Christopher Hewitt, \"Political Violence and Te...      PGIS   \n",
       "freq                                                  138     61785   \n",
       "mean                                                  NaN       NaN   \n",
       "std                                                   NaN       NaN   \n",
       "min                                                   NaN       NaN   \n",
       "25%                                                   NaN       NaN   \n",
       "50%                                                   NaN       NaN   \n",
       "75%                                                   NaN       NaN   \n",
       "max                                                   NaN       NaN   \n",
       "\n",
       "             INT_LOG      INT_IDEO      INT_MISC       INT_ANY  \\\n",
       "count   65535.000000  65535.000000  65535.000000  65535.000000   \n",
       "unique           NaN           NaN           NaN           NaN   \n",
       "top              NaN           NaN           NaN           NaN   \n",
       "freq             NaN           NaN           NaN           NaN   \n",
       "mean       -3.628534     -3.589090      0.128771     -2.857221   \n",
       "std         4.479267      4.531547      0.794551      4.479471   \n",
       "min        -9.000000     -9.000000     -9.000000     -9.000000   \n",
       "25%        -9.000000     -9.000000      0.000000     -9.000000   \n",
       "50%         0.000000      0.000000      0.000000      0.000000   \n",
       "75%         0.000000      0.000000      0.000000      1.000000   \n",
       "max         1.000000      1.000000      1.000000      1.000000   \n",
       "\n",
       "                                                  related  \n",
       "count                                                6766  \n",
       "unique                                               5500  \n",
       "top     197209190001, 197209190002, 197209190003, 1972...  \n",
       "freq                                                   74  \n",
       "mean                                                  NaN  \n",
       "std                                                   NaN  \n",
       "min                                                   NaN  \n",
       "25%                                                   NaN  \n",
       "50%                                                   NaN  \n",
       "75%                                                   NaN  \n",
       "max                                                   NaN  \n",
       "\n",
       "[11 rows x 135 columns]"
      ]
     },
     "execution_count": 11,
     "metadata": {},
     "output_type": "execute_result"
    }
   ],
   "source": [
    "data.describe(include='all')"
   ]
  },
  {
   "cell_type": "markdown",
   "id": "5afce6e6",
   "metadata": {},
   "source": [
    "###### CHECK DATATYPES AND MISSING VALUES"
   ]
  },
  {
   "cell_type": "code",
   "execution_count": 12,
   "id": "62e40cac",
   "metadata": {},
   "outputs": [
    {
     "name": "stdout",
     "output_type": "stream",
     "text": [
      "<class 'pandas.core.frame.DataFrame'>\n",
      "RangeIndex: 65535 entries, 0 to 65534\n",
      "Columns: 135 entries, eventid to related\n",
      "dtypes: float64(53), int64(25), object(57)\n",
      "memory usage: 67.5+ MB\n"
     ]
    }
   ],
   "source": [
    "data.info()"
   ]
  },
  {
   "cell_type": "markdown",
   "id": "0fcd4805",
   "metadata": {},
   "source": [
    "###### COUNTING THE NO. OF MISSING VALUES"
   ]
  },
  {
   "cell_type": "code",
   "execution_count": 13,
   "id": "101febf3",
   "metadata": {},
   "outputs": [
    {
     "data": {
      "text/plain": [
       "eventid           0\n",
       "iyear             0\n",
       "imonth            0\n",
       "iday              0\n",
       "approxdate    65505\n",
       "              ...  \n",
       "INT_LOG           0\n",
       "INT_IDEO          0\n",
       "INT_MISC          0\n",
       "INT_ANY           0\n",
       "related       58769\n",
       "Length: 135, dtype: int64"
      ]
     },
     "execution_count": 13,
     "metadata": {},
     "output_type": "execute_result"
    }
   ],
   "source": [
    "data.isnull().sum()"
   ]
  },
  {
   "cell_type": "markdown",
   "id": "ba9e6760",
   "metadata": {},
   "source": [
    "###### RENAMING THE COULMN NAMES"
   ]
  },
  {
   "cell_type": "code",
   "execution_count": 14,
   "id": "4681eaf6",
   "metadata": {},
   "outputs": [
    {
     "data": {
      "text/html": [
       "<div>\n",
       "<style scoped>\n",
       "    .dataframe tbody tr th:only-of-type {\n",
       "        vertical-align: middle;\n",
       "    }\n",
       "\n",
       "    .dataframe tbody tr th {\n",
       "        vertical-align: top;\n",
       "    }\n",
       "\n",
       "    .dataframe thead th {\n",
       "        text-align: right;\n",
       "    }\n",
       "</style>\n",
       "<table border=\"1\" class=\"dataframe\">\n",
       "  <thead>\n",
       "    <tr style=\"text-align: right;\">\n",
       "      <th></th>\n",
       "      <th>eventid</th>\n",
       "      <th>Year</th>\n",
       "      <th>Month</th>\n",
       "      <th>Day</th>\n",
       "      <th>approxdate</th>\n",
       "      <th>extended</th>\n",
       "      <th>resolution</th>\n",
       "      <th>country</th>\n",
       "      <th>Country</th>\n",
       "      <th>region</th>\n",
       "      <th>...</th>\n",
       "      <th>addnotes</th>\n",
       "      <th>scite1</th>\n",
       "      <th>scite2</th>\n",
       "      <th>scite3</th>\n",
       "      <th>dbsource</th>\n",
       "      <th>INT_LOG</th>\n",
       "      <th>INT_IDEO</th>\n",
       "      <th>INT_MISC</th>\n",
       "      <th>INT_ANY</th>\n",
       "      <th>related</th>\n",
       "    </tr>\n",
       "  </thead>\n",
       "  <tbody>\n",
       "    <tr>\n",
       "      <th>0</th>\n",
       "      <td>1.970000e+11</td>\n",
       "      <td>1970</td>\n",
       "      <td>7</td>\n",
       "      <td>2</td>\n",
       "      <td>NaN</td>\n",
       "      <td>0</td>\n",
       "      <td>NaN</td>\n",
       "      <td>58</td>\n",
       "      <td>Dominican Republic</td>\n",
       "      <td>2</td>\n",
       "      <td>...</td>\n",
       "      <td>NaN</td>\n",
       "      <td>NaN</td>\n",
       "      <td>NaN</td>\n",
       "      <td>NaN</td>\n",
       "      <td>PGIS</td>\n",
       "      <td>0</td>\n",
       "      <td>0</td>\n",
       "      <td>0</td>\n",
       "      <td>0</td>\n",
       "      <td>NaN</td>\n",
       "    </tr>\n",
       "    <tr>\n",
       "      <th>1</th>\n",
       "      <td>1.970000e+11</td>\n",
       "      <td>1970</td>\n",
       "      <td>0</td>\n",
       "      <td>0</td>\n",
       "      <td>NaN</td>\n",
       "      <td>0</td>\n",
       "      <td>NaN</td>\n",
       "      <td>130</td>\n",
       "      <td>Mexico</td>\n",
       "      <td>1</td>\n",
       "      <td>...</td>\n",
       "      <td>NaN</td>\n",
       "      <td>NaN</td>\n",
       "      <td>NaN</td>\n",
       "      <td>NaN</td>\n",
       "      <td>PGIS</td>\n",
       "      <td>0</td>\n",
       "      <td>1</td>\n",
       "      <td>1</td>\n",
       "      <td>1</td>\n",
       "      <td>NaN</td>\n",
       "    </tr>\n",
       "    <tr>\n",
       "      <th>2</th>\n",
       "      <td>1.970000e+11</td>\n",
       "      <td>1970</td>\n",
       "      <td>1</td>\n",
       "      <td>0</td>\n",
       "      <td>NaN</td>\n",
       "      <td>0</td>\n",
       "      <td>NaN</td>\n",
       "      <td>160</td>\n",
       "      <td>Philippines</td>\n",
       "      <td>5</td>\n",
       "      <td>...</td>\n",
       "      <td>NaN</td>\n",
       "      <td>NaN</td>\n",
       "      <td>NaN</td>\n",
       "      <td>NaN</td>\n",
       "      <td>PGIS</td>\n",
       "      <td>-9</td>\n",
       "      <td>-9</td>\n",
       "      <td>1</td>\n",
       "      <td>1</td>\n",
       "      <td>NaN</td>\n",
       "    </tr>\n",
       "    <tr>\n",
       "      <th>3</th>\n",
       "      <td>1.970000e+11</td>\n",
       "      <td>1970</td>\n",
       "      <td>1</td>\n",
       "      <td>0</td>\n",
       "      <td>NaN</td>\n",
       "      <td>0</td>\n",
       "      <td>NaN</td>\n",
       "      <td>78</td>\n",
       "      <td>Greece</td>\n",
       "      <td>8</td>\n",
       "      <td>...</td>\n",
       "      <td>NaN</td>\n",
       "      <td>NaN</td>\n",
       "      <td>NaN</td>\n",
       "      <td>NaN</td>\n",
       "      <td>PGIS</td>\n",
       "      <td>-9</td>\n",
       "      <td>-9</td>\n",
       "      <td>1</td>\n",
       "      <td>1</td>\n",
       "      <td>NaN</td>\n",
       "    </tr>\n",
       "    <tr>\n",
       "      <th>4</th>\n",
       "      <td>1.970000e+11</td>\n",
       "      <td>1970</td>\n",
       "      <td>1</td>\n",
       "      <td>0</td>\n",
       "      <td>NaN</td>\n",
       "      <td>0</td>\n",
       "      <td>NaN</td>\n",
       "      <td>101</td>\n",
       "      <td>Japan</td>\n",
       "      <td>4</td>\n",
       "      <td>...</td>\n",
       "      <td>NaN</td>\n",
       "      <td>NaN</td>\n",
       "      <td>NaN</td>\n",
       "      <td>NaN</td>\n",
       "      <td>PGIS</td>\n",
       "      <td>-9</td>\n",
       "      <td>-9</td>\n",
       "      <td>1</td>\n",
       "      <td>1</td>\n",
       "      <td>NaN</td>\n",
       "    </tr>\n",
       "  </tbody>\n",
       "</table>\n",
       "<p>5 rows × 135 columns</p>\n",
       "</div>"
      ],
      "text/plain": [
       "        eventid  Year  Month  Day approxdate  extended resolution  country  \\\n",
       "0  1.970000e+11  1970      7    2        NaN         0        NaN       58   \n",
       "1  1.970000e+11  1970      0    0        NaN         0        NaN      130   \n",
       "2  1.970000e+11  1970      1    0        NaN         0        NaN      160   \n",
       "3  1.970000e+11  1970      1    0        NaN         0        NaN       78   \n",
       "4  1.970000e+11  1970      1    0        NaN         0        NaN      101   \n",
       "\n",
       "              Country  region  ... addnotes scite1 scite2  scite3  dbsource  \\\n",
       "0  Dominican Republic       2  ...      NaN    NaN    NaN     NaN      PGIS   \n",
       "1              Mexico       1  ...      NaN    NaN    NaN     NaN      PGIS   \n",
       "2         Philippines       5  ...      NaN    NaN    NaN     NaN      PGIS   \n",
       "3              Greece       8  ...      NaN    NaN    NaN     NaN      PGIS   \n",
       "4               Japan       4  ...      NaN    NaN    NaN     NaN      PGIS   \n",
       "\n",
       "   INT_LOG  INT_IDEO INT_MISC INT_ANY  related  \n",
       "0        0         0        0       0      NaN  \n",
       "1        0         1        1       1      NaN  \n",
       "2       -9        -9        1       1      NaN  \n",
       "3       -9        -9        1       1      NaN  \n",
       "4       -9        -9        1       1      NaN  \n",
       "\n",
       "[5 rows x 135 columns]"
      ]
     },
     "execution_count": 14,
     "metadata": {},
     "output_type": "execute_result"
    }
   ],
   "source": [
    "data.rename(columns={'iyear':'Year','imonth':'Month','iday':'Day','country_txt':'Country','provstate':'State','region_txt':'Region','attacktype1_txt':'AttackType','target1':'Target','nkill':'Killed','nwound':'Wound','summary':'Summary','gname':'Group','targtype1_txt':'Target_type','weaptype1_txt':'Weapon_type','motive':'Motive'},inplace=True)\n",
    "data.head()"
   ]
  },
  {
   "cell_type": "markdown",
   "id": "44ad0430",
   "metadata": {},
   "source": [
    "###### SELECTING ONLY THOSE COLUMNS WHICH ARE ACTUALLY REQUIRED"
   ]
  },
  {
   "cell_type": "code",
   "execution_count": 15,
   "id": "ca0a0a5e",
   "metadata": {},
   "outputs": [
    {
     "name": "stdout",
     "output_type": "stream",
     "text": [
      "       Year  Month  Day             Country     State           city  \\\n",
      "0      1970      7    2  Dominican Republic       NaN  Santo Domingo   \n",
      "1      1970      0    0              Mexico   Federal    Mexico city   \n",
      "2      1970      1    0         Philippines    Tarlac        Unknown   \n",
      "3      1970      1    0              Greece    Attica         Athens   \n",
      "4      1970      1    0               Japan   Fukouka        Fukouka   \n",
      "...     ...    ...  ...                 ...       ...            ...   \n",
      "65530  1997      6    5             Algeria    Djelfa         Djelfa   \n",
      "65531  1997      6    5             Hungary  Budapest       Budapest   \n",
      "65532  1997      6    5             Hungary  Budapest       Budapest   \n",
      "65533  1997      6    5             Hungary  Budapest       Budapest   \n",
      "65534  1997      6    5             Hungary  Budapest       Budapest   \n",
      "\n",
      "                            Region                      AttackType  \\\n",
      "0      Central America & Caribbean                   Assassination   \n",
      "1                    North America     Hostage Taking (Kidnapping)   \n",
      "2                   Southeast Asia                   Assassination   \n",
      "3                   Western Europe               Bombing/Explosion   \n",
      "4                        East Asia  Facility/Infrastructure Attack   \n",
      "...                            ...                             ...   \n",
      "65530   Middle East & North Africa               Bombing/Explosion   \n",
      "65531               Eastern Europe               Bombing/Explosion   \n",
      "65532               Eastern Europe               Bombing/Explosion   \n",
      "65533               Eastern Europe               Bombing/Explosion   \n",
      "65534               Eastern Europe               Bombing/Explosion   \n",
      "\n",
      "                        Target                               Group  \\\n",
      "0                 Julio Guzman                              MANO-D   \n",
      "1      Nadine Chaval, daughter  23rd of September Communist League   \n",
      "2                     Employee                             Unknown   \n",
      "3                 U.S. Embassy                             Unknown   \n",
      "4               U.S. Consulate                             Unknown   \n",
      "...                        ...                                 ...   \n",
      "65530               moving car                             Unknown   \n",
      "65531          Car dealerships                             Unknown   \n",
      "65532          Car dealerships                             Unknown   \n",
      "65533          Car dealerships                             Unknown   \n",
      "65534          Car dealerships                             Unknown   \n",
      "\n",
      "                       Target_type Weapon_type  \n",
      "0      Private Citizens & Property     Unknown  \n",
      "1          Government (Diplomatic)     Unknown  \n",
      "2              Journalists & Media     Unknown  \n",
      "3          Government (Diplomatic)  Explosives  \n",
      "4          Government (Diplomatic)  Incendiary  \n",
      "...                            ...         ...  \n",
      "65530  Private Citizens & Property  Explosives  \n",
      "65531                     Business  Explosives  \n",
      "65532                     Business  Explosives  \n",
      "65533                     Business  Explosives  \n",
      "65534                     Business  Explosives  \n",
      "\n",
      "[65535 rows x 12 columns]\n"
     ]
    }
   ],
   "source": [
    "req_data=data[['Year','Month','Day','Country','State','city','Region','AttackType','Target','Group','Target_type','Weapon_type']]\n",
    "print(req_data)"
   ]
  },
  {
   "cell_type": "markdown",
   "id": "df5ab9f4",
   "metadata": {},
   "source": [
    "###### FINDING THE SHAPE "
   ]
  },
  {
   "cell_type": "code",
   "execution_count": 16,
   "id": "876fc46e",
   "metadata": {},
   "outputs": [
    {
     "data": {
      "text/plain": [
       "(65535, 12)"
      ]
     },
     "execution_count": 16,
     "metadata": {},
     "output_type": "execute_result"
    }
   ],
   "source": [
    "req_data.shape"
   ]
  },
  {
   "cell_type": "markdown",
   "id": "48a45531",
   "metadata": {},
   "source": [
    "###### COUNTING THE NO. OF MISSING VALUES"
   ]
  },
  {
   "cell_type": "code",
   "execution_count": 17,
   "id": "d6275aa9",
   "metadata": {},
   "outputs": [
    {
     "data": {
      "text/plain": [
       "Year             0\n",
       "Month            0\n",
       "Day              0\n",
       "Country          0\n",
       "State          372\n",
       "city             0\n",
       "Region           0\n",
       "AttackType       0\n",
       "Target         457\n",
       "Group            0\n",
       "Target_type      0\n",
       "Weapon_type      0\n",
       "dtype: int64"
      ]
     },
     "execution_count": 17,
     "metadata": {},
     "output_type": "execute_result"
    }
   ],
   "source": [
    "req_data.isnull().sum()"
   ]
  },
  {
   "cell_type": "code",
   "execution_count": 15,
   "id": "af0880bc",
   "metadata": {},
   "outputs": [
    {
     "name": "stdout",
     "output_type": "stream",
     "text": [
      "<class 'pandas.core.frame.DataFrame'>\n",
      "RangeIndex: 65535 entries, 0 to 65534\n",
      "Columns: 135 entries, eventid to related\n",
      "dtypes: float64(53), int64(25), object(57)\n",
      "memory usage: 67.5+ MB\n"
     ]
    }
   ],
   "source": [
    "data.info()"
   ]
  },
  {
   "cell_type": "markdown",
   "id": "01a789be",
   "metadata": {},
   "source": [
    "##### FILLING THE NAN VALUES"
   ]
  },
  {
   "cell_type": "code",
   "execution_count": 18,
   "id": "9a237861",
   "metadata": {},
   "outputs": [],
   "source": [
    "req_data['Target']=req_data['Target'].fillna('others')"
   ]
  },
  {
   "cell_type": "code",
   "execution_count": 19,
   "id": "b4f75d27",
   "metadata": {},
   "outputs": [],
   "source": [
    "req_data['State']=req_data['State'].fillna('unknown')"
   ]
  },
  {
   "cell_type": "code",
   "execution_count": 20,
   "id": "376e983d",
   "metadata": {},
   "outputs": [],
   "source": [
    "req_data['city']=req_data['city'].fillna('unknown ')"
   ]
  },
  {
   "cell_type": "code",
   "execution_count": 21,
   "id": "a229ff01",
   "metadata": {},
   "outputs": [],
   "source": [
    "req_data['Target']=req_data['Target'].fillna('others')"
   ]
  },
  {
   "cell_type": "code",
   "execution_count": 22,
   "id": "4d5655f5",
   "metadata": {},
   "outputs": [],
   "source": [
    "req_data['Target']=req_data['Target'].fillna('others')"
   ]
  },
  {
   "cell_type": "code",
   "execution_count": 23,
   "id": "2be60952",
   "metadata": {},
   "outputs": [],
   "source": [
    "req_data.replace({\"Vehicle (not to include vehicle-borne explosives, i.e., car or truck bombs)\":\"Vehicle\"},inplace=True)"
   ]
  },
  {
   "cell_type": "code",
   "execution_count": 24,
   "id": "e0d27f17",
   "metadata": {},
   "outputs": [
    {
     "data": {
      "text/html": [
       "<div>\n",
       "<style scoped>\n",
       "    .dataframe tbody tr th:only-of-type {\n",
       "        vertical-align: middle;\n",
       "    }\n",
       "\n",
       "    .dataframe tbody tr th {\n",
       "        vertical-align: top;\n",
       "    }\n",
       "\n",
       "    .dataframe thead th {\n",
       "        text-align: right;\n",
       "    }\n",
       "</style>\n",
       "<table border=\"1\" class=\"dataframe\">\n",
       "  <thead>\n",
       "    <tr style=\"text-align: right;\">\n",
       "      <th></th>\n",
       "      <th>Year</th>\n",
       "      <th>Month</th>\n",
       "      <th>Day</th>\n",
       "      <th>Country</th>\n",
       "      <th>State</th>\n",
       "      <th>city</th>\n",
       "      <th>Region</th>\n",
       "      <th>AttackType</th>\n",
       "      <th>Target</th>\n",
       "      <th>Group</th>\n",
       "      <th>Target_type</th>\n",
       "      <th>Weapon_type</th>\n",
       "    </tr>\n",
       "  </thead>\n",
       "  <tbody>\n",
       "    <tr>\n",
       "      <th>0</th>\n",
       "      <td>1970</td>\n",
       "      <td>7</td>\n",
       "      <td>2</td>\n",
       "      <td>Dominican Republic</td>\n",
       "      <td>unknown</td>\n",
       "      <td>Santo Domingo</td>\n",
       "      <td>Central America &amp; Caribbean</td>\n",
       "      <td>Assassination</td>\n",
       "      <td>Julio Guzman</td>\n",
       "      <td>MANO-D</td>\n",
       "      <td>Private Citizens &amp; Property</td>\n",
       "      <td>Unknown</td>\n",
       "    </tr>\n",
       "    <tr>\n",
       "      <th>1</th>\n",
       "      <td>1970</td>\n",
       "      <td>0</td>\n",
       "      <td>0</td>\n",
       "      <td>Mexico</td>\n",
       "      <td>Federal</td>\n",
       "      <td>Mexico city</td>\n",
       "      <td>North America</td>\n",
       "      <td>Hostage Taking (Kidnapping)</td>\n",
       "      <td>Nadine Chaval, daughter</td>\n",
       "      <td>23rd of September Communist League</td>\n",
       "      <td>Government (Diplomatic)</td>\n",
       "      <td>Unknown</td>\n",
       "    </tr>\n",
       "    <tr>\n",
       "      <th>2</th>\n",
       "      <td>1970</td>\n",
       "      <td>1</td>\n",
       "      <td>0</td>\n",
       "      <td>Philippines</td>\n",
       "      <td>Tarlac</td>\n",
       "      <td>Unknown</td>\n",
       "      <td>Southeast Asia</td>\n",
       "      <td>Assassination</td>\n",
       "      <td>Employee</td>\n",
       "      <td>Unknown</td>\n",
       "      <td>Journalists &amp; Media</td>\n",
       "      <td>Unknown</td>\n",
       "    </tr>\n",
       "    <tr>\n",
       "      <th>3</th>\n",
       "      <td>1970</td>\n",
       "      <td>1</td>\n",
       "      <td>0</td>\n",
       "      <td>Greece</td>\n",
       "      <td>Attica</td>\n",
       "      <td>Athens</td>\n",
       "      <td>Western Europe</td>\n",
       "      <td>Bombing/Explosion</td>\n",
       "      <td>U.S. Embassy</td>\n",
       "      <td>Unknown</td>\n",
       "      <td>Government (Diplomatic)</td>\n",
       "      <td>Explosives</td>\n",
       "    </tr>\n",
       "    <tr>\n",
       "      <th>4</th>\n",
       "      <td>1970</td>\n",
       "      <td>1</td>\n",
       "      <td>0</td>\n",
       "      <td>Japan</td>\n",
       "      <td>Fukouka</td>\n",
       "      <td>Fukouka</td>\n",
       "      <td>East Asia</td>\n",
       "      <td>Facility/Infrastructure Attack</td>\n",
       "      <td>U.S. Consulate</td>\n",
       "      <td>Unknown</td>\n",
       "      <td>Government (Diplomatic)</td>\n",
       "      <td>Incendiary</td>\n",
       "    </tr>\n",
       "    <tr>\n",
       "      <th>...</th>\n",
       "      <td>...</td>\n",
       "      <td>...</td>\n",
       "      <td>...</td>\n",
       "      <td>...</td>\n",
       "      <td>...</td>\n",
       "      <td>...</td>\n",
       "      <td>...</td>\n",
       "      <td>...</td>\n",
       "      <td>...</td>\n",
       "      <td>...</td>\n",
       "      <td>...</td>\n",
       "      <td>...</td>\n",
       "    </tr>\n",
       "    <tr>\n",
       "      <th>65530</th>\n",
       "      <td>1997</td>\n",
       "      <td>6</td>\n",
       "      <td>5</td>\n",
       "      <td>Algeria</td>\n",
       "      <td>Djelfa</td>\n",
       "      <td>Djelfa</td>\n",
       "      <td>Middle East &amp; North Africa</td>\n",
       "      <td>Bombing/Explosion</td>\n",
       "      <td>moving car</td>\n",
       "      <td>Unknown</td>\n",
       "      <td>Private Citizens &amp; Property</td>\n",
       "      <td>Explosives</td>\n",
       "    </tr>\n",
       "    <tr>\n",
       "      <th>65531</th>\n",
       "      <td>1997</td>\n",
       "      <td>6</td>\n",
       "      <td>5</td>\n",
       "      <td>Hungary</td>\n",
       "      <td>Budapest</td>\n",
       "      <td>Budapest</td>\n",
       "      <td>Eastern Europe</td>\n",
       "      <td>Bombing/Explosion</td>\n",
       "      <td>Car dealerships</td>\n",
       "      <td>Unknown</td>\n",
       "      <td>Business</td>\n",
       "      <td>Explosives</td>\n",
       "    </tr>\n",
       "    <tr>\n",
       "      <th>65532</th>\n",
       "      <td>1997</td>\n",
       "      <td>6</td>\n",
       "      <td>5</td>\n",
       "      <td>Hungary</td>\n",
       "      <td>Budapest</td>\n",
       "      <td>Budapest</td>\n",
       "      <td>Eastern Europe</td>\n",
       "      <td>Bombing/Explosion</td>\n",
       "      <td>Car dealerships</td>\n",
       "      <td>Unknown</td>\n",
       "      <td>Business</td>\n",
       "      <td>Explosives</td>\n",
       "    </tr>\n",
       "    <tr>\n",
       "      <th>65533</th>\n",
       "      <td>1997</td>\n",
       "      <td>6</td>\n",
       "      <td>5</td>\n",
       "      <td>Hungary</td>\n",
       "      <td>Budapest</td>\n",
       "      <td>Budapest</td>\n",
       "      <td>Eastern Europe</td>\n",
       "      <td>Bombing/Explosion</td>\n",
       "      <td>Car dealerships</td>\n",
       "      <td>Unknown</td>\n",
       "      <td>Business</td>\n",
       "      <td>Explosives</td>\n",
       "    </tr>\n",
       "    <tr>\n",
       "      <th>65534</th>\n",
       "      <td>1997</td>\n",
       "      <td>6</td>\n",
       "      <td>5</td>\n",
       "      <td>Hungary</td>\n",
       "      <td>Budapest</td>\n",
       "      <td>Budapest</td>\n",
       "      <td>Eastern Europe</td>\n",
       "      <td>Bombing/Explosion</td>\n",
       "      <td>Car dealerships</td>\n",
       "      <td>Unknown</td>\n",
       "      <td>Business</td>\n",
       "      <td>Explosives</td>\n",
       "    </tr>\n",
       "  </tbody>\n",
       "</table>\n",
       "<p>65535 rows × 12 columns</p>\n",
       "</div>"
      ],
      "text/plain": [
       "       Year  Month  Day             Country     State           city  \\\n",
       "0      1970      7    2  Dominican Republic   unknown  Santo Domingo   \n",
       "1      1970      0    0              Mexico   Federal    Mexico city   \n",
       "2      1970      1    0         Philippines    Tarlac        Unknown   \n",
       "3      1970      1    0              Greece    Attica         Athens   \n",
       "4      1970      1    0               Japan   Fukouka        Fukouka   \n",
       "...     ...    ...  ...                 ...       ...            ...   \n",
       "65530  1997      6    5             Algeria    Djelfa         Djelfa   \n",
       "65531  1997      6    5             Hungary  Budapest       Budapest   \n",
       "65532  1997      6    5             Hungary  Budapest       Budapest   \n",
       "65533  1997      6    5             Hungary  Budapest       Budapest   \n",
       "65534  1997      6    5             Hungary  Budapest       Budapest   \n",
       "\n",
       "                            Region                      AttackType  \\\n",
       "0      Central America & Caribbean                   Assassination   \n",
       "1                    North America     Hostage Taking (Kidnapping)   \n",
       "2                   Southeast Asia                   Assassination   \n",
       "3                   Western Europe               Bombing/Explosion   \n",
       "4                        East Asia  Facility/Infrastructure Attack   \n",
       "...                            ...                             ...   \n",
       "65530   Middle East & North Africa               Bombing/Explosion   \n",
       "65531               Eastern Europe               Bombing/Explosion   \n",
       "65532               Eastern Europe               Bombing/Explosion   \n",
       "65533               Eastern Europe               Bombing/Explosion   \n",
       "65534               Eastern Europe               Bombing/Explosion   \n",
       "\n",
       "                        Target                               Group  \\\n",
       "0                 Julio Guzman                              MANO-D   \n",
       "1      Nadine Chaval, daughter  23rd of September Communist League   \n",
       "2                     Employee                             Unknown   \n",
       "3                 U.S. Embassy                             Unknown   \n",
       "4               U.S. Consulate                             Unknown   \n",
       "...                        ...                                 ...   \n",
       "65530               moving car                             Unknown   \n",
       "65531          Car dealerships                             Unknown   \n",
       "65532          Car dealerships                             Unknown   \n",
       "65533          Car dealerships                             Unknown   \n",
       "65534          Car dealerships                             Unknown   \n",
       "\n",
       "                       Target_type Weapon_type  \n",
       "0      Private Citizens & Property     Unknown  \n",
       "1          Government (Diplomatic)     Unknown  \n",
       "2              Journalists & Media     Unknown  \n",
       "3          Government (Diplomatic)  Explosives  \n",
       "4          Government (Diplomatic)  Incendiary  \n",
       "...                            ...         ...  \n",
       "65530  Private Citizens & Property  Explosives  \n",
       "65531                     Business  Explosives  \n",
       "65532                     Business  Explosives  \n",
       "65533                     Business  Explosives  \n",
       "65534                     Business  Explosives  \n",
       "\n",
       "[65535 rows x 12 columns]"
      ]
     },
     "execution_count": 24,
     "metadata": {},
     "output_type": "execute_result"
    }
   ],
   "source": [
    "req_data"
   ]
  },
  {
   "cell_type": "code",
   "execution_count": 23,
   "id": "3c497a50",
   "metadata": {},
   "outputs": [
    {
     "data": {
      "text/plain": [
       "Year           0\n",
       "Month          0\n",
       "Day            0\n",
       "Country        0\n",
       "State          0\n",
       "city           0\n",
       "Region         0\n",
       "AttackType     0\n",
       "Target         0\n",
       "Group          0\n",
       "Target_type    0\n",
       "Weapon_type    0\n",
       "dtype: int64"
      ]
     },
     "execution_count": 23,
     "metadata": {},
     "output_type": "execute_result"
    }
   ],
   "source": [
    "req_data.isnull().sum()"
   ]
  },
  {
   "cell_type": "code",
   "execution_count": 25,
   "id": "0db6fd48",
   "metadata": {},
   "outputs": [
    {
     "name": "stdout",
     "output_type": "stream",
     "text": [
      "192 countries were noted  in the dataset\n"
     ]
    }
   ],
   "source": [
    "tot_country=req_data['Country'].nunique()\n",
    "print(\"%d countries were noted  in the dataset\"%tot_country)"
   ]
  },
  {
   "cell_type": "code",
   "execution_count": 26,
   "id": "9b8df0a1",
   "metadata": {},
   "outputs": [
    {
     "data": {
      "text/plain": [
       "array(['Central America & Caribbean', 'North America', 'Southeast Asia',\n",
       "       'Western Europe', 'East Asia', 'South America', 'Eastern Europe',\n",
       "       'Sub-Saharan Africa', 'Middle East & North Africa',\n",
       "       'Australasia & Oceania', 'South Asia', 'Central Asia'],\n",
       "      dtype=object)"
      ]
     },
     "execution_count": 26,
     "metadata": {},
     "output_type": "execute_result"
    }
   ],
   "source": [
    "req_data['Region'].unique()"
   ]
  },
  {
   "cell_type": "code",
   "execution_count": 27,
   "id": "12d1e139",
   "metadata": {},
   "outputs": [
    {
     "data": {
      "text/plain": [
       "array(['Assassination', 'Hostage Taking (Kidnapping)',\n",
       "       'Bombing/Explosion', 'Facility/Infrastructure Attack',\n",
       "       'Armed Assault', 'Hijacking', 'Unknown', 'Unarmed Assault',\n",
       "       'Hostage Taking (Barricade Incident)'], dtype=object)"
      ]
     },
     "execution_count": 27,
     "metadata": {},
     "output_type": "execute_result"
    }
   ],
   "source": [
    "req_data['AttackType'].unique()"
   ]
  },
  {
   "cell_type": "code",
   "execution_count": 28,
   "id": "683ca1c1",
   "metadata": {},
   "outputs": [
    {
     "data": {
      "text/plain": [
       "array(['Private Citizens & Property', 'Government (Diplomatic)',\n",
       "       'Journalists & Media', 'Police', 'Utilities', 'Military',\n",
       "       'Government (General)', 'Airports & Aircraft', 'Business',\n",
       "       'Educational Institution', 'Violent Political Party',\n",
       "       'Religious Figures/Institutions', 'Unknown', 'Transportation',\n",
       "       'Tourists', 'NGO', 'Telecommunication', 'Food or Water Supply',\n",
       "       'Terrorists/Non-State Militia', 'Other', 'Maritime',\n",
       "       'Abortion Related'], dtype=object)"
      ]
     },
     "execution_count": 28,
     "metadata": {},
     "output_type": "execute_result"
    }
   ],
   "source": [
    "req_data['Target_type'].unique()"
   ]
  },
  {
   "cell_type": "code",
   "execution_count": 29,
   "id": "af90341b",
   "metadata": {},
   "outputs": [
    {
     "data": {
      "text/plain": [
       "array(['MANO-D', '23rd of September Communist League', 'Unknown', ...,\n",
       "       'Tribal guerrillas', 'Loyalist Volunteer Forces (LVF)',\n",
       "       'Tehrik al-Mojahedin'], dtype=object)"
      ]
     },
     "execution_count": 29,
     "metadata": {},
     "output_type": "execute_result"
    }
   ],
   "source": [
    "req_data['Group'].unique()"
   ]
  },
  {
   "cell_type": "code",
   "execution_count": 30,
   "id": "d15244ec",
   "metadata": {},
   "outputs": [
    {
     "data": {
      "text/plain": [
       "array(['Unknown', 'Explosives', 'Incendiary', 'Firearms', 'Chemical',\n",
       "       'Melee', 'Sabotage Equipment', 'Vehicle', 'Fake Weapons',\n",
       "       'Radiological', 'Other', 'Biological'], dtype=object)"
      ]
     },
     "execution_count": 30,
     "metadata": {},
     "output_type": "execute_result"
    }
   ],
   "source": [
    "req_data['Weapon_type'].unique()"
   ]
  },
  {
   "cell_type": "code",
   "execution_count": 31,
   "id": "9fdac8db",
   "metadata": {},
   "outputs": [
    {
     "name": "stdout",
     "output_type": "stream",
     "text": [
      "<class 'pandas.core.frame.DataFrame'>\n",
      "RangeIndex: 65535 entries, 0 to 65534\n",
      "Data columns (total 12 columns):\n",
      " #   Column       Non-Null Count  Dtype \n",
      "---  ------       --------------  ----- \n",
      " 0   Year         65535 non-null  int64 \n",
      " 1   Month        65535 non-null  int64 \n",
      " 2   Day          65535 non-null  int64 \n",
      " 3   Country      65535 non-null  object\n",
      " 4   State        65535 non-null  object\n",
      " 5   city         65535 non-null  object\n",
      " 6   Region       65535 non-null  object\n",
      " 7   AttackType   65535 non-null  object\n",
      " 8   Target       65535 non-null  object\n",
      " 9   Group        65535 non-null  object\n",
      " 10  Target_type  65535 non-null  object\n",
      " 11  Weapon_type  65535 non-null  object\n",
      "dtypes: int64(3), object(9)\n",
      "memory usage: 6.0+ MB\n"
     ]
    }
   ],
   "source": [
    "req_data.info()"
   ]
  },
  {
   "cell_type": "code",
   "execution_count": 32,
   "id": "cfd76549",
   "metadata": {},
   "outputs": [
    {
     "data": {
      "text/html": [
       "<div>\n",
       "<style scoped>\n",
       "    .dataframe tbody tr th:only-of-type {\n",
       "        vertical-align: middle;\n",
       "    }\n",
       "\n",
       "    .dataframe tbody tr th {\n",
       "        vertical-align: top;\n",
       "    }\n",
       "\n",
       "    .dataframe thead th {\n",
       "        text-align: right;\n",
       "    }\n",
       "</style>\n",
       "<table border=\"1\" class=\"dataframe\">\n",
       "  <thead>\n",
       "    <tr style=\"text-align: right;\">\n",
       "      <th></th>\n",
       "      <th>Year</th>\n",
       "      <th>Month</th>\n",
       "      <th>Day</th>\n",
       "    </tr>\n",
       "  </thead>\n",
       "  <tbody>\n",
       "    <tr>\n",
       "      <th>count</th>\n",
       "      <td>65535.000000</td>\n",
       "      <td>65535.000000</td>\n",
       "      <td>65535.000000</td>\n",
       "    </tr>\n",
       "    <tr>\n",
       "      <th>mean</th>\n",
       "      <td>1986.552193</td>\n",
       "      <td>6.392447</td>\n",
       "      <td>15.390402</td>\n",
       "    </tr>\n",
       "    <tr>\n",
       "      <th>std</th>\n",
       "      <td>6.337192</td>\n",
       "      <td>3.405159</td>\n",
       "      <td>8.807574</td>\n",
       "    </tr>\n",
       "    <tr>\n",
       "      <th>min</th>\n",
       "      <td>1970.000000</td>\n",
       "      <td>0.000000</td>\n",
       "      <td>0.000000</td>\n",
       "    </tr>\n",
       "    <tr>\n",
       "      <th>25%</th>\n",
       "      <td>1982.000000</td>\n",
       "      <td>3.000000</td>\n",
       "      <td>8.000000</td>\n",
       "    </tr>\n",
       "    <tr>\n",
       "      <th>50%</th>\n",
       "      <td>1987.000000</td>\n",
       "      <td>6.000000</td>\n",
       "      <td>15.000000</td>\n",
       "    </tr>\n",
       "    <tr>\n",
       "      <th>75%</th>\n",
       "      <td>1991.000000</td>\n",
       "      <td>9.000000</td>\n",
       "      <td>23.000000</td>\n",
       "    </tr>\n",
       "    <tr>\n",
       "      <th>max</th>\n",
       "      <td>1997.000000</td>\n",
       "      <td>12.000000</td>\n",
       "      <td>31.000000</td>\n",
       "    </tr>\n",
       "  </tbody>\n",
       "</table>\n",
       "</div>"
      ],
      "text/plain": [
       "               Year         Month           Day\n",
       "count  65535.000000  65535.000000  65535.000000\n",
       "mean    1986.552193      6.392447     15.390402\n",
       "std        6.337192      3.405159      8.807574\n",
       "min     1970.000000      0.000000      0.000000\n",
       "25%     1982.000000      3.000000      8.000000\n",
       "50%     1987.000000      6.000000     15.000000\n",
       "75%     1991.000000      9.000000     23.000000\n",
       "max     1997.000000     12.000000     31.000000"
      ]
     },
     "execution_count": 32,
     "metadata": {},
     "output_type": "execute_result"
    }
   ],
   "source": [
    "req_data.describe()"
   ]
  },
  {
   "cell_type": "code",
   "execution_count": 33,
   "id": "17259154",
   "metadata": {},
   "outputs": [
    {
     "data": {
      "text/plain": [
       "Peru              5987\n",
       "Colombia          5554\n",
       "El Salvador       5318\n",
       "United Kingdom    3996\n",
       "India             2743\n",
       "Spain             2723\n",
       "Turkey            2326\n",
       "United States     2268\n",
       "Chile             2263\n",
       "France            2182\n",
       "Name: Country, dtype: int64"
      ]
     },
     "execution_count": 33,
     "metadata": {},
     "output_type": "execute_result"
    }
   ],
   "source": [
    "req_data['Country'].value_counts().head(10)"
   ]
  },
  {
   "cell_type": "code",
   "execution_count": 34,
   "id": "51eda396",
   "metadata": {},
   "outputs": [
    {
     "data": {
      "text/plain": [
       "South America                  15682\n",
       "Western Europe                 12940\n",
       "Central America & Caribbean    10173\n",
       "Middle East & North Africa      8455\n",
       "South Asia                      7090\n",
       "Sub-Saharan Africa              4077\n",
       "Southeast Asia                  2729\n",
       "North America                   2639\n",
       "Eastern Europe                   720\n",
       "East Asia                        577\n",
       "Name: Region, dtype: int64"
      ]
     },
     "execution_count": 34,
     "metadata": {},
     "output_type": "execute_result"
    }
   ],
   "source": [
    "req_data['Region'].value_counts().head(10)"
   ]
  },
  {
   "cell_type": "code",
   "execution_count": 35,
   "id": "b41f5652",
   "metadata": {},
   "outputs": [
    {
     "data": {
      "text/plain": [
       "Private Citizens & Property    11619\n",
       "Business                       11161\n",
       "Military                        9126\n",
       "Government (General)            8441\n",
       "Police                          7459\n",
       "Utilities                       3631\n",
       "Transportation                  3409\n",
       "Government (Diplomatic)         2177\n",
       "Journalists & Media             1458\n",
       "Educational Institution         1266\n",
       "Name: Target_type, dtype: int64"
      ]
     },
     "execution_count": 35,
     "metadata": {},
     "output_type": "execute_result"
    }
   ],
   "source": [
    "req_data['Target_type'].value_counts().head(10)"
   ]
  },
  {
   "cell_type": "code",
   "execution_count": 36,
   "id": "d93d5f14",
   "metadata": {},
   "outputs": [
    {
     "data": {
      "text/plain": [
       "Unknown         4466\n",
       "Lima            2337\n",
       "Belfast         1796\n",
       "San Salvador    1557\n",
       "Santiago        1553\n",
       "Karachi          999\n",
       "Beirut           852\n",
       "Bogota           819\n",
       "Istanbul         773\n",
       "Medellin         763\n",
       "Name: city, dtype: int64"
      ]
     },
     "execution_count": 36,
     "metadata": {},
     "output_type": "execute_result"
    }
   ],
   "source": [
    "req_data['city'].value_counts().head(10)"
   ]
  },
  {
   "cell_type": "code",
   "execution_count": 37,
   "id": "7db11960",
   "metadata": {},
   "outputs": [
    {
     "data": {
      "text/plain": [
       "Bombing/Explosion                      27595\n",
       "Armed Assault                          15066\n",
       "Assassination                          12002\n",
       "Facility/Infrastructure Attack          4428\n",
       "Hostage Taking (Kidnapping)             2773\n",
       "Unknown                                 2383\n",
       "Hostage Taking (Barricade Incident)      620\n",
       "Unarmed Assault                          341\n",
       "Hijacking                                327\n",
       "Name: AttackType, dtype: int64"
      ]
     },
     "execution_count": 37,
     "metadata": {},
     "output_type": "execute_result"
    }
   ],
   "source": [
    "req_data['AttackType'].value_counts().head(10)"
   ]
  },
  {
   "cell_type": "code",
   "execution_count": 38,
   "id": "9b153267",
   "metadata": {},
   "outputs": [
    {
     "data": {
      "text/plain": [
       "Military Unit              1533\n",
       "Unit                       1127\n",
       "Bus                         766\n",
       "Bank                        579\n",
       "High tension line tower     541\n",
       "unit                        519\n",
       "others                      457\n",
       "military unit               430\n",
       "Vehicle                     388\n",
       "Office                      374\n",
       "Name: Target, dtype: int64"
      ]
     },
     "execution_count": 38,
     "metadata": {},
     "output_type": "execute_result"
    }
   ],
   "source": [
    "req_data['Target'].value_counts().head(10)"
   ]
  },
  {
   "cell_type": "markdown",
   "id": "80e5a0f9",
   "metadata": {},
   "source": [
    "###### VISUALIZING THE DATASET"
   ]
  },
  {
   "cell_type": "code",
   "execution_count": 39,
   "id": "ea04e800",
   "metadata": {},
   "outputs": [
    {
     "data": {
      "image/png": "[encoded data removed]",
      "text/plain": [
       "<Figure size 1500x500 with 1 Axes>"
      ]
     },
     "metadata": {},
     "output_type": "display_data"
    }
   ],
   "source": [
    "plt.figure(figsize=(15,5))\n",
    "sns.countplot(req_data['Weapon_type'])\n",
    "plt.xticks(rotation=90)\n",
    "plt.title('Attacks By Weapon Type')\n",
    "plt.show()"
   ]
  },
  {
   "cell_type": "code",
   "execution_count": 40,
   "id": "41427f93",
   "metadata": {},
   "outputs": [
    {
     "data": {
      "image/png": "[encoded data removed]",
      "text/plain": [
       "<Figure size 640x480 with 1 Axes>"
      ]
     },
     "metadata": {},
     "output_type": "display_data"
    }
   ],
   "source": [
    "sns.countplot(req_data['Year'])\n",
    "plt.title('Attacks By Year')\n",
    "plt.xticks(rotation=90)\n",
    "plt.show()"
   ]
  },
  {
   "cell_type": "code",
   "execution_count": 41,
   "id": "7e950f7d",
   "metadata": {},
   "outputs": [
    {
     "data": {
      "image/png": "[encoded data removed]",
      "text/plain": [
       "<Figure size 640x480 with 1 Axes>"
      ]
     },
     "metadata": {},
     "output_type": "display_data"
    }
   ],
   "source": [
    "sns.countplot(req_data['Month'])\n",
    "plt.title('Attacks By Month')\n",
    "plt.xticks(rotation=90)\n",
    "plt.show()"
   ]
  },
  {
   "cell_type": "code",
   "execution_count": 42,
   "id": "563fecdc",
   "metadata": {},
   "outputs": [
    {
     "data": {
      "image/png": "[encoded data removed]",
      "text/plain": [
       "<Figure size 640x480 with 1 Axes>"
      ]
     },
     "metadata": {},
     "output_type": "display_data"
    }
   ],
   "source": [
    "sns.countplot(req_data['Day'])\n",
    "plt.title('Attacks By Day')\n",
    "plt.xticks(rotation=90)\n",
    "plt.show()"
   ]
  },
  {
   "cell_type": "code",
   "execution_count": 43,
   "id": "f72ff770",
   "metadata": {},
   "outputs": [
    {
     "data": {
      "image/png": "[encoded data removed]",
      "text/plain": [
       "<Figure size 640x480 with 1 Axes>"
      ]
     },
     "metadata": {},
     "output_type": "display_data"
    }
   ],
   "source": [
    "sns.countplot(req_data['Region'])\n",
    "plt.title('Attacks by region')\n",
    "plt.xticks(rotation=90)\n",
    "plt.show()"
   ]
  },
  {
   "cell_type": "code",
   "execution_count": 49,
   "id": "75e0ea23",
   "metadata": {},
   "outputs": [
    {
     "data": {
      "image/png": "[encoded data removed]",
      "text/plain": [
       "<Figure size 640x480 with 1 Axes>"
      ]
     },
     "metadata": {},
     "output_type": "display_data"
    }
   ],
   "source": [
    "sns.countplot(req_data['AttackType'])\n",
    "plt.title('Based On Attack Type')\n",
    "plt.xticks(rotation=90)\n",
    "plt.show()"
   ]
  },
  {
   "cell_type": "code",
   "execution_count": 50,
   "id": "b2240def",
   "metadata": {},
   "outputs": [
    {
     "data": {
      "image/png": "[encoded data removed]",
      "text/plain": [
       "<Figure size 640x480 with 1 Axes>"
      ]
     },
     "metadata": {},
     "output_type": "display_data"
    }
   ],
   "source": [
    "sns.barplot(req_data['Country'].value_counts()[:10].index,req_data['Country'].value_counts()[:10].values)\n",
    "plt.xlabel('Country')\n",
    "plt.ylabel('No.Of attacks')\n",
    "plt.title('Top 10 most affected countries')\n",
    "plt.xticks(rotation=90)\n",
    "plt.show()"
   ]
  },
  {
   "cell_type": "code",
   "execution_count": 51,
   "id": "929aec8f",
   "metadata": {},
   "outputs": [
    {
     "data": {
      "image/png": "[encoded data removed]",
      "text/plain": [
       "<Figure size 640x480 with 1 Axes>"
      ]
     },
     "metadata": {},
     "output_type": "display_data"
    }
   ],
   "source": [
    "sns.barplot(req_data['State'].value_counts()[:10].index,req_data['State'].value_counts()[:10].values)\n",
    "plt.xlabel('State')\n",
    "plt.ylabel('No.Of attacks')\n",
    "plt.title('Top 10 most affected countries')\n",
    "plt.xticks(rotation=90)\n",
    "plt.show()"
   ]
  },
  {
   "cell_type": "markdown",
   "id": "3ab0a345",
   "metadata": {},
   "source": [
    "##### Result of analysis"
   ]
  },
  {
   "cell_type": "markdown",
   "id": "d1582d8d",
   "metadata": {},
   "source": [
    " Most used weapon type in attacks : Explosive  \n",
    " \n",
    " Most Number of attacks year : 1992\n",
    " \n",
    " Most Number of attacks month : 5th Month (May)\n",
    " \n",
    " Most Number of attacks day : 15th day\n",
    " \n",
    " Most Attacked Country : Iraq\n",
    " \n",
    " Most Attacked State : Baghdad\n",
    " \n",
    " Most Attacked Region : South America\n",
    " \n",
    " Most Attack based on target type : Private citizen and property\n",
    " \n",
    " Most Attack based on attack type : Bombing/Explosion\n",
    " "
   ]
  },
  {
   "cell_type": "markdown",
   "id": "eba700e1",
   "metadata": {},
   "source": [
    "##### Security issues and insight from EDA"
   ]
  },
  {
   "cell_type": "markdown",
   "id": "cdcffaa5",
   "metadata": {},
   "source": [
    "   From the above result of analysis, it is clear that explosive is the most used weapon type in the attacks . And keepng the track of other result. Following measures can be adopted to rrduce the number of attacks and terrorism.\n",
    "   \n",
    "       1) The goverment should firmly border security.\n",
    "       \n",
    "       2) Strict immigration laws and regulations should be put in place.\n",
    "       \n",
    "       3) It is important to restrict access to weapon.\n",
    "       \n",
    "       4) States should ensure their internal security."
   ]
  }
 ],
 "metadata": {
  "kernelspec": {
   "display_name": "Python 3 (ipykernel)",
   "language": "python",
   "name": "python3"
  },
  "language_info": {
   "codemirror_mode": {
    "name": "ipython",
    "version": 3
   },
   "file_extension": ".py",
   "mimetype": "text/x-python",
   "name": "python",
   "nbconvert_exporter": "python",
   "pygments_lexer": "ipython3",
   "version": "3.9.13"
  }
 },
 "nbformat": 4,
 "nbformat_minor": 5
}
